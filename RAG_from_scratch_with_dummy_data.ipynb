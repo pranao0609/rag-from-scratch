{
  "nbformat": 4,
  "nbformat_minor": 0,
  "metadata": {
    "colab": {
      "provenance": [],
      "gpuType": "T4",
      "authorship_tag": "ABX9TyOjQC4xpoVjqxztDNC6XS2O",
      "include_colab_link": true
    },
    "kernelspec": {
      "name": "python3",
      "display_name": "Python 3"
    },
    "language_info": {
      "name": "python"
    },
    "accelerator": "GPU"
  },
  "cells": [
    {
      "cell_type": "markdown",
      "metadata": {
        "id": "view-in-github",
        "colab_type": "text"
      },
      "source": [
        "<a href=\"https://colab.research.google.com/github/pranao0609/rag-from-scratch/blob/main/RAG_from_scratch_with_dummy_data.ipynb\" target=\"_parent\"><img src=\"https://colab.research.google.com/assets/colab-badge.svg\" alt=\"Open In Colab\"/></a>"
      ]
    },
    {
      "cell_type": "code",
      "execution_count": null,
      "metadata": {
        "id": "F2pWkxsYFRVv"
      },
      "outputs": [],
      "source": [
        "!pip install faiss-cpu transformers datasets"
      ]
    },
    {
      "cell_type": "code",
      "source": [
        "corpus = [\n",
        "    \"Isaac Newton formulated the laws of motion and universal gravitation.\",\n",
        "    \"The capital of France is Paris, known for the Eiffel Tower.\",\n",
        "    \"Python is a popular programming language used in AI and web development.\",\n",
        "    \"Mahatma Gandhi led India to independence through non-violent resistance.\",\n",
        "    \"The Moon orbits the Earth and influences ocean tides.\"\n",
        "]\n",
        "\n",
        "print(\"Dummy corpus loaded:\", len(corpus), \"documents\")\n"
      ],
      "metadata": {
        "colab": {
          "base_uri": "https://localhost:8080/"
        },
        "id": "5ZFLMnZAkl8L",
        "outputId": "38273090-ea9d-479e-de19-47de5dc30716"
      },
      "execution_count": 9,
      "outputs": [
        {
          "output_type": "stream",
          "name": "stdout",
          "text": [
            "Dummy corpus loaded: 5 documents\n"
          ]
        }
      ]
    },
    {
      "cell_type": "code",
      "source": [
        "from transformers import DPRContextEncoder, DPRContextEncoderTokenizer\n",
        "import torch\n",
        "import faiss\n",
        "import numpy as np\n",
        "\n",
        "ctx_tokenizer = DPRContextEncoderTokenizer.from_pretrained(\"facebook/dpr-ctx_encoder-single-nq-base\")\n",
        "ctx_encoder = DPRContextEncoder.from_pretrained(\"facebook/dpr-ctx_encoder-single-nq-base\")\n",
        "\n",
        "def encode_passages(passages, batch_size=16):\n",
        "    embeddings = []\n",
        "    ctx_encoder.eval()\n",
        "    with torch.no_grad():\n",
        "        for i in range(0, len(passages), batch_size):\n",
        "            batch = passages[i:i+batch_size]\n",
        "            inputs = ctx_tokenizer(batch, return_tensors=\"pt\", padding=True, truncation=True)\n",
        "            outputs = ctx_encoder(**inputs).pooler_output\n",
        "            embeddings.append(outputs.cpu().numpy())\n",
        "    return np.vstack(embeddings)\n",
        "\n",
        "passage_embeddings = encode_passages(corpus)\n",
        "\n",
        "dim = passage_embeddings.shape[1]\n",
        "index = faiss.IndexFlatL2(dim)\n",
        "index.add(passage_embeddings)\n",
        "print(\"FAISS index built with\", index.ntotal, \"vectors\")"
      ],
      "metadata": {
        "id": "oA2CgCN-kl--",
        "colab": {
          "base_uri": "https://localhost:8080/"
        },
        "outputId": "d327e37f-410c-47b6-cec5-806e694674bd"
      },
      "execution_count": 10,
      "outputs": [
        {
          "output_type": "stream",
          "name": "stderr",
          "text": [
            "The tokenizer class you load from this checkpoint is not the same type as the class this function is called from. It may result in unexpected tokenization. \n",
            "The tokenizer class you load from this checkpoint is 'DPRQuestionEncoderTokenizer'. \n",
            "The class this function is called from is 'DPRContextEncoderTokenizer'.\n",
            "Some weights of the model checkpoint at facebook/dpr-ctx_encoder-single-nq-base were not used when initializing DPRContextEncoder: ['ctx_encoder.bert_model.pooler.dense.bias', 'ctx_encoder.bert_model.pooler.dense.weight']\n",
            "- This IS expected if you are initializing DPRContextEncoder from the checkpoint of a model trained on another task or with another architecture (e.g. initializing a BertForSequenceClassification model from a BertForPreTraining model).\n",
            "- This IS NOT expected if you are initializing DPRContextEncoder from the checkpoint of a model that you expect to be exactly identical (initializing a BertForSequenceClassification model from a BertForSequenceClassification model).\n",
            "Asking to truncate to max_length but no maximum length is provided and the model has no predefined maximum length. Default to no truncation.\n",
            "/usr/local/lib/python3.11/dist-packages/torch/nn/modules/module.py:1750: FutureWarning: `encoder_attention_mask` is deprecated and will be removed in version 4.55.0 for `BertSdpaSelfAttention.forward`.\n",
            "  return forward_call(*args, **kwargs)\n"
          ]
        },
        {
          "output_type": "stream",
          "name": "stdout",
          "text": [
            "FAISS index built with 5 vectors\n"
          ]
        }
      ]
    },
    {
      "cell_type": "code",
      "source": [
        "from transformers import DPRQuestionEncoder, DPRQuestionEncoderTokenizer\n",
        "\n",
        "question_encoder = DPRQuestionEncoder.from_pretrained(\"facebook/dpr-question_encoder-single-nq-base\")\n",
        "question_tokenizer = DPRQuestionEncoderTokenizer.from_pretrained(\"facebook/dpr-question_encoder-single-nq-base\")\n",
        "\n",
        "def retrieve_documents(question, k=3):\n",
        "    inputs = question_tokenizer(question, return_tensors=\"pt\")\n",
        "    with torch.no_grad():\n",
        "        question_emb = question_encoder(**inputs).pooler_output.cpu().numpy()\n",
        "    distances, indices = index.search(question_emb, k)\n",
        "    return [corpus[i] for i in indices[0]]\n"
      ],
      "metadata": {
        "id": "VO3AWRcskmCe",
        "colab": {
          "base_uri": "https://localhost:8080/"
        },
        "outputId": "48c25208-90a9-4acd-bed6-20d2ffa18e84"
      },
      "execution_count": 12,
      "outputs": [
        {
          "output_type": "stream",
          "name": "stderr",
          "text": [
            "Some weights of the model checkpoint at facebook/dpr-question_encoder-single-nq-base were not used when initializing DPRQuestionEncoder: ['question_encoder.bert_model.pooler.dense.bias', 'question_encoder.bert_model.pooler.dense.weight']\n",
            "- This IS expected if you are initializing DPRQuestionEncoder from the checkpoint of a model trained on another task or with another architecture (e.g. initializing a BertForSequenceClassification model from a BertForPreTraining model).\n",
            "- This IS NOT expected if you are initializing DPRQuestionEncoder from the checkpoint of a model that you expect to be exactly identical (initializing a BertForSequenceClassification model from a BertForSequenceClassification model).\n"
          ]
        }
      ]
    },
    {
      "cell_type": "code",
      "source": [
        "\n",
        "question = \"Who discovered gravity?\"\n",
        "top_docs = retrieve_documents(question)\n",
        "for i, doc in enumerate(top_docs):\n",
        "    print(f\"[Doc {i+1}]:\", doc[:200], \"\\n\")"
      ],
      "metadata": {
        "colab": {
          "base_uri": "https://localhost:8080/"
        },
        "id": "-ObHwm3cmurw",
        "outputId": "9296b9a8-c12c-4f4d-f6ca-10d08068c5ac"
      },
      "execution_count": 13,
      "outputs": [
        {
          "output_type": "stream",
          "name": "stdout",
          "text": [
            "[Doc 1]: Isaac Newton formulated the laws of motion and universal gravitation. \n",
            "\n",
            "[Doc 2]: Python is a popular programming language used in AI and web development. \n",
            "\n",
            "[Doc 3]: Mahatma Gandhi led India to independence through non-violent resistance. \n",
            "\n"
          ]
        }
      ]
    },
    {
      "cell_type": "code",
      "source": [
        "from transformers import BartTokenizer, BartForConditionalGeneration\n",
        "\n",
        "bart_tokenizer = BartTokenizer.from_pretrained(\"facebook/bart-large\")\n",
        "bart_model = BartForConditionalGeneration.from_pretrained(\"facebook/bart-large\")\n",
        "\n",
        "def generate_answer(question, documents):\n",
        "    inputs = [question + \" </s> \" + doc for doc in documents]\n",
        "    input_text = \" </s> \".join(inputs)\n",
        "    input_tokens = bart_tokenizer([input_text], return_tensors=\"pt\", truncation=True, padding=True, max_length=1024)\n",
        "\n",
        "    with torch.no_grad():\n",
        "        outputs = bart_model.generate(**input_tokens, max_length=100, num_beams=4, early_stopping=True)\n",
        "\n",
        "    return bart_tokenizer.decode(outputs[0], skip_special_tokens=True)\n"
      ],
      "metadata": {
        "id": "ShbNl_nhm1Xl"
      },
      "execution_count": 15,
      "outputs": []
    },
    {
      "cell_type": "code",
      "source": [
        "answer = generate_answer(question, top_docs)\n",
        "print(\"\\n Final Answer:\\n\", answer)"
      ],
      "metadata": {
        "colab": {
          "base_uri": "https://localhost:8080/"
        },
        "id": "2YPWTJDXnXLg",
        "outputId": "ac32973d-8e7e-4603-86a2-0b6ce47a035e"
      },
      "execution_count": 17,
      "outputs": [
        {
          "output_type": "stream",
          "name": "stdout",
          "text": [
            "\n",
            " Final Answer:\n",
            " Who discovered gravity?  Isaac Newton formulated the laws of motion and universal gravitation.  Who invented the computer? \n"
          ]
        }
      ]
    }
  ]
}